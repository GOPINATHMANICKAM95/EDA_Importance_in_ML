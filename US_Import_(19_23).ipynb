{
  "nbformat": 4,
  "nbformat_minor": 0,
  "metadata": {
    "colab": {
      "provenance": []
    },
    "kernelspec": {
      "name": "python3",
      "display_name": "Python 3"
    },
    "language_info": {
      "name": "python"
    }
  },
  "cells": [
    {
      "cell_type": "code",
      "source": [
        "from google.colab import drive\n",
        "import os\n",
        "drive.mount('/content/drive')\n",
        "os.chdir('/content/drive/MyDrive/DS/US_IMPORT_PROJECT')\n",
        "!pwd"
      ],
      "metadata": {
        "colab": {
          "base_uri": "https://localhost:8080/"
        },
        "id": "2Dw4KRJNkfM0",
        "outputId": "de1a3ed7-e96d-4c7c-85a5-5385eb5420c3"
      },
      "execution_count": 1,
      "outputs": [
        {
          "output_type": "stream",
          "name": "stdout",
          "text": [
            "Mounted at /content/drive\n",
            "/content/drive/MyDrive/DS/US_IMPORT_PROJECT\n"
          ]
        }
      ]
    },
    {
      "cell_type": "code",
      "source": [
        "#initializing the required libraries\n",
        "from sklearn.preprocessing import LabelEncoder\n",
        "from scipy import stats\n",
        "import warnings\n",
        "warnings.filterwarnings(\"ignore\")\n",
        "import pickle\n",
        "import pandas as pd\n",
        "import numpy as np\n",
        "import matplotlib.pyplot as plt\n",
        "import seaborn as sns\n",
        "import plotly.express as px\n",
        "import plotly.graph_objects as go\n",
        "pd.set_option('display.max_columns', None)"
      ],
      "metadata": {
        "id": "wRaie_6EAg-W"
      },
      "execution_count": 15,
      "outputs": []
    },
    {
      "cell_type": "code",
      "source": [
        "df = pd.read_csv(\"Us_Import(19-23).csv\") #imported the data\n",
        "df = df.melt(id_vars=[\"Item Name\", \"Country\"],\n",
        "             var_name=\"Years\",\n",
        "             value_name=\"Purchase\") #unpivot the data\n",
        "\n",
        "# cleaning the data, just simple data\n",
        "df[\"Purchase\"] = df[\"Purchase\"].str.replace(\",\", \"\").astype(float).round(2) #removing commas and convert to float\n",
        "df[\"Years\"] = pd.to_numeric(df[\"Years\"], errors='coerce').fillna(0).astype(int) #year convert to int"
      ],
      "metadata": {
        "id": "M7YaN2K6lVJJ"
      },
      "execution_count": 4,
      "outputs": []
    },
    {
      "cell_type": "code",
      "source": [
        "df"
      ],
      "metadata": {
        "colab": {
          "base_uri": "https://localhost:8080/",
          "height": 424
        },
        "id": "4FqfkNomlZqR",
        "outputId": "9b6a2163-963a-42c9-f372-0c769c853729"
      },
      "execution_count": 5,
      "outputs": [
        {
          "output_type": "execute_result",
          "data": {
            "text/plain": [
              "                  Item Name        Country  Years  Purchase\n",
              "0              live animals         Canada   2023    1808.5\n",
              "1              live animals         Mexico   2023    1121.9\n",
              "2              live animals  Rest of world   2023       0.0\n",
              "3              live animals          World   2023    2930.3\n",
              "4      Bovine animals, live         Canada   2023    1297.5\n",
              "...                     ...            ...    ...       ...\n",
              "15045              Oilseeds          Chile   1999       3.6\n",
              "15046              Oilseeds          India   1999      17.1\n",
              "15047              Oilseeds       Bulgaria   1999       0.0\n",
              "15048              Oilseeds  Rest of world   1999     107.6\n",
              "15049              Oilseeds          World   1999     242.3\n",
              "\n",
              "[15050 rows x 4 columns]"
            ],
            "text/html": [
              "\n",
              "  <div id=\"df-852aab8c-9bdd-4c39-9e8e-42b2de597e4a\" class=\"colab-df-container\">\n",
              "    <div>\n",
              "<style scoped>\n",
              "    .dataframe tbody tr th:only-of-type {\n",
              "        vertical-align: middle;\n",
              "    }\n",
              "\n",
              "    .dataframe tbody tr th {\n",
              "        vertical-align: top;\n",
              "    }\n",
              "\n",
              "    .dataframe thead th {\n",
              "        text-align: right;\n",
              "    }\n",
              "</style>\n",
              "<table border=\"1\" class=\"dataframe\">\n",
              "  <thead>\n",
              "    <tr style=\"text-align: right;\">\n",
              "      <th></th>\n",
              "      <th>Item Name</th>\n",
              "      <th>Country</th>\n",
              "      <th>Years</th>\n",
              "      <th>Purchase</th>\n",
              "    </tr>\n",
              "  </thead>\n",
              "  <tbody>\n",
              "    <tr>\n",
              "      <th>0</th>\n",
              "      <td>live animals</td>\n",
              "      <td>Canada</td>\n",
              "      <td>2023</td>\n",
              "      <td>1808.5</td>\n",
              "    </tr>\n",
              "    <tr>\n",
              "      <th>1</th>\n",
              "      <td>live animals</td>\n",
              "      <td>Mexico</td>\n",
              "      <td>2023</td>\n",
              "      <td>1121.9</td>\n",
              "    </tr>\n",
              "    <tr>\n",
              "      <th>2</th>\n",
              "      <td>live animals</td>\n",
              "      <td>Rest of world</td>\n",
              "      <td>2023</td>\n",
              "      <td>0.0</td>\n",
              "    </tr>\n",
              "    <tr>\n",
              "      <th>3</th>\n",
              "      <td>live animals</td>\n",
              "      <td>World</td>\n",
              "      <td>2023</td>\n",
              "      <td>2930.3</td>\n",
              "    </tr>\n",
              "    <tr>\n",
              "      <th>4</th>\n",
              "      <td>Bovine animals, live</td>\n",
              "      <td>Canada</td>\n",
              "      <td>2023</td>\n",
              "      <td>1297.5</td>\n",
              "    </tr>\n",
              "    <tr>\n",
              "      <th>...</th>\n",
              "      <td>...</td>\n",
              "      <td>...</td>\n",
              "      <td>...</td>\n",
              "      <td>...</td>\n",
              "    </tr>\n",
              "    <tr>\n",
              "      <th>15045</th>\n",
              "      <td>Oilseeds</td>\n",
              "      <td>Chile</td>\n",
              "      <td>1999</td>\n",
              "      <td>3.6</td>\n",
              "    </tr>\n",
              "    <tr>\n",
              "      <th>15046</th>\n",
              "      <td>Oilseeds</td>\n",
              "      <td>India</td>\n",
              "      <td>1999</td>\n",
              "      <td>17.1</td>\n",
              "    </tr>\n",
              "    <tr>\n",
              "      <th>15047</th>\n",
              "      <td>Oilseeds</td>\n",
              "      <td>Bulgaria</td>\n",
              "      <td>1999</td>\n",
              "      <td>0.0</td>\n",
              "    </tr>\n",
              "    <tr>\n",
              "      <th>15048</th>\n",
              "      <td>Oilseeds</td>\n",
              "      <td>Rest of world</td>\n",
              "      <td>1999</td>\n",
              "      <td>107.6</td>\n",
              "    </tr>\n",
              "    <tr>\n",
              "      <th>15049</th>\n",
              "      <td>Oilseeds</td>\n",
              "      <td>World</td>\n",
              "      <td>1999</td>\n",
              "      <td>242.3</td>\n",
              "    </tr>\n",
              "  </tbody>\n",
              "</table>\n",
              "<p>15050 rows × 4 columns</p>\n",
              "</div>\n",
              "    <div class=\"colab-df-buttons\">\n",
              "\n",
              "  <div class=\"colab-df-container\">\n",
              "    <button class=\"colab-df-convert\" onclick=\"convertToInteractive('df-852aab8c-9bdd-4c39-9e8e-42b2de597e4a')\"\n",
              "            title=\"Convert this dataframe to an interactive table.\"\n",
              "            style=\"display:none;\">\n",
              "\n",
              "  <svg xmlns=\"http://www.w3.org/2000/svg\" height=\"24px\" viewBox=\"0 -960 960 960\">\n",
              "    <path d=\"M120-120v-720h720v720H120Zm60-500h600v-160H180v160Zm220 220h160v-160H400v160Zm0 220h160v-160H400v160ZM180-400h160v-160H180v160Zm440 0h160v-160H620v160ZM180-180h160v-160H180v160Zm440 0h160v-160H620v160Z\"/>\n",
              "  </svg>\n",
              "    </button>\n",
              "\n",
              "  <style>\n",
              "    .colab-df-container {\n",
              "      display:flex;\n",
              "      gap: 12px;\n",
              "    }\n",
              "\n",
              "    .colab-df-convert {\n",
              "      background-color: #E8F0FE;\n",
              "      border: none;\n",
              "      border-radius: 50%;\n",
              "      cursor: pointer;\n",
              "      display: none;\n",
              "      fill: #1967D2;\n",
              "      height: 32px;\n",
              "      padding: 0 0 0 0;\n",
              "      width: 32px;\n",
              "    }\n",
              "\n",
              "    .colab-df-convert:hover {\n",
              "      background-color: #E2EBFA;\n",
              "      box-shadow: 0px 1px 2px rgba(60, 64, 67, 0.3), 0px 1px 3px 1px rgba(60, 64, 67, 0.15);\n",
              "      fill: #174EA6;\n",
              "    }\n",
              "\n",
              "    .colab-df-buttons div {\n",
              "      margin-bottom: 4px;\n",
              "    }\n",
              "\n",
              "    [theme=dark] .colab-df-convert {\n",
              "      background-color: #3B4455;\n",
              "      fill: #D2E3FC;\n",
              "    }\n",
              "\n",
              "    [theme=dark] .colab-df-convert:hover {\n",
              "      background-color: #434B5C;\n",
              "      box-shadow: 0px 1px 3px 1px rgba(0, 0, 0, 0.15);\n",
              "      filter: drop-shadow(0px 1px 2px rgba(0, 0, 0, 0.3));\n",
              "      fill: #FFFFFF;\n",
              "    }\n",
              "  </style>\n",
              "\n",
              "    <script>\n",
              "      const buttonEl =\n",
              "        document.querySelector('#df-852aab8c-9bdd-4c39-9e8e-42b2de597e4a button.colab-df-convert');\n",
              "      buttonEl.style.display =\n",
              "        google.colab.kernel.accessAllowed ? 'block' : 'none';\n",
              "\n",
              "      async function convertToInteractive(key) {\n",
              "        const element = document.querySelector('#df-852aab8c-9bdd-4c39-9e8e-42b2de597e4a');\n",
              "        const dataTable =\n",
              "          await google.colab.kernel.invokeFunction('convertToInteractive',\n",
              "                                                    [key], {});\n",
              "        if (!dataTable) return;\n",
              "\n",
              "        const docLinkHtml = 'Like what you see? Visit the ' +\n",
              "          '<a target=\"_blank\" href=https://colab.research.google.com/notebooks/data_table.ipynb>data table notebook</a>'\n",
              "          + ' to learn more about interactive tables.';\n",
              "        element.innerHTML = '';\n",
              "        dataTable['output_type'] = 'display_data';\n",
              "        await google.colab.output.renderOutput(dataTable, element);\n",
              "        const docLink = document.createElement('div');\n",
              "        docLink.innerHTML = docLinkHtml;\n",
              "        element.appendChild(docLink);\n",
              "      }\n",
              "    </script>\n",
              "  </div>\n",
              "\n",
              "\n",
              "<div id=\"df-efe7b708-2f89-4a92-a675-197ebf1796fa\">\n",
              "  <button class=\"colab-df-quickchart\" onclick=\"quickchart('df-efe7b708-2f89-4a92-a675-197ebf1796fa')\"\n",
              "            title=\"Suggest charts\"\n",
              "            style=\"display:none;\">\n",
              "\n",
              "<svg xmlns=\"http://www.w3.org/2000/svg\" height=\"24px\"viewBox=\"0 0 24 24\"\n",
              "     width=\"24px\">\n",
              "    <g>\n",
              "        <path d=\"M19 3H5c-1.1 0-2 .9-2 2v14c0 1.1.9 2 2 2h14c1.1 0 2-.9 2-2V5c0-1.1-.9-2-2-2zM9 17H7v-7h2v7zm4 0h-2V7h2v10zm4 0h-2v-4h2v4z\"/>\n",
              "    </g>\n",
              "</svg>\n",
              "  </button>\n",
              "\n",
              "<style>\n",
              "  .colab-df-quickchart {\n",
              "      --bg-color: #E8F0FE;\n",
              "      --fill-color: #1967D2;\n",
              "      --hover-bg-color: #E2EBFA;\n",
              "      --hover-fill-color: #174EA6;\n",
              "      --disabled-fill-color: #AAA;\n",
              "      --disabled-bg-color: #DDD;\n",
              "  }\n",
              "\n",
              "  [theme=dark] .colab-df-quickchart {\n",
              "      --bg-color: #3B4455;\n",
              "      --fill-color: #D2E3FC;\n",
              "      --hover-bg-color: #434B5C;\n",
              "      --hover-fill-color: #FFFFFF;\n",
              "      --disabled-bg-color: #3B4455;\n",
              "      --disabled-fill-color: #666;\n",
              "  }\n",
              "\n",
              "  .colab-df-quickchart {\n",
              "    background-color: var(--bg-color);\n",
              "    border: none;\n",
              "    border-radius: 50%;\n",
              "    cursor: pointer;\n",
              "    display: none;\n",
              "    fill: var(--fill-color);\n",
              "    height: 32px;\n",
              "    padding: 0;\n",
              "    width: 32px;\n",
              "  }\n",
              "\n",
              "  .colab-df-quickchart:hover {\n",
              "    background-color: var(--hover-bg-color);\n",
              "    box-shadow: 0 1px 2px rgba(60, 64, 67, 0.3), 0 1px 3px 1px rgba(60, 64, 67, 0.15);\n",
              "    fill: var(--button-hover-fill-color);\n",
              "  }\n",
              "\n",
              "  .colab-df-quickchart-complete:disabled,\n",
              "  .colab-df-quickchart-complete:disabled:hover {\n",
              "    background-color: var(--disabled-bg-color);\n",
              "    fill: var(--disabled-fill-color);\n",
              "    box-shadow: none;\n",
              "  }\n",
              "\n",
              "  .colab-df-spinner {\n",
              "    border: 2px solid var(--fill-color);\n",
              "    border-color: transparent;\n",
              "    border-bottom-color: var(--fill-color);\n",
              "    animation:\n",
              "      spin 1s steps(1) infinite;\n",
              "  }\n",
              "\n",
              "  @keyframes spin {\n",
              "    0% {\n",
              "      border-color: transparent;\n",
              "      border-bottom-color: var(--fill-color);\n",
              "      border-left-color: var(--fill-color);\n",
              "    }\n",
              "    20% {\n",
              "      border-color: transparent;\n",
              "      border-left-color: var(--fill-color);\n",
              "      border-top-color: var(--fill-color);\n",
              "    }\n",
              "    30% {\n",
              "      border-color: transparent;\n",
              "      border-left-color: var(--fill-color);\n",
              "      border-top-color: var(--fill-color);\n",
              "      border-right-color: var(--fill-color);\n",
              "    }\n",
              "    40% {\n",
              "      border-color: transparent;\n",
              "      border-right-color: var(--fill-color);\n",
              "      border-top-color: var(--fill-color);\n",
              "    }\n",
              "    60% {\n",
              "      border-color: transparent;\n",
              "      border-right-color: var(--fill-color);\n",
              "    }\n",
              "    80% {\n",
              "      border-color: transparent;\n",
              "      border-right-color: var(--fill-color);\n",
              "      border-bottom-color: var(--fill-color);\n",
              "    }\n",
              "    90% {\n",
              "      border-color: transparent;\n",
              "      border-bottom-color: var(--fill-color);\n",
              "    }\n",
              "  }\n",
              "</style>\n",
              "\n",
              "  <script>\n",
              "    async function quickchart(key) {\n",
              "      const quickchartButtonEl =\n",
              "        document.querySelector('#' + key + ' button');\n",
              "      quickchartButtonEl.disabled = true;  // To prevent multiple clicks.\n",
              "      quickchartButtonEl.classList.add('colab-df-spinner');\n",
              "      try {\n",
              "        const charts = await google.colab.kernel.invokeFunction(\n",
              "            'suggestCharts', [key], {});\n",
              "      } catch (error) {\n",
              "        console.error('Error during call to suggestCharts:', error);\n",
              "      }\n",
              "      quickchartButtonEl.classList.remove('colab-df-spinner');\n",
              "      quickchartButtonEl.classList.add('colab-df-quickchart-complete');\n",
              "    }\n",
              "    (() => {\n",
              "      let quickchartButtonEl =\n",
              "        document.querySelector('#df-efe7b708-2f89-4a92-a675-197ebf1796fa button');\n",
              "      quickchartButtonEl.style.display =\n",
              "        google.colab.kernel.accessAllowed ? 'block' : 'none';\n",
              "    })();\n",
              "  </script>\n",
              "</div>\n",
              "\n",
              "  <div id=\"id_4801a9cd-0c9b-4e00-a0ad-4a8ca10e13bf\">\n",
              "    <style>\n",
              "      .colab-df-generate {\n",
              "        background-color: #E8F0FE;\n",
              "        border: none;\n",
              "        border-radius: 50%;\n",
              "        cursor: pointer;\n",
              "        display: none;\n",
              "        fill: #1967D2;\n",
              "        height: 32px;\n",
              "        padding: 0 0 0 0;\n",
              "        width: 32px;\n",
              "      }\n",
              "\n",
              "      .colab-df-generate:hover {\n",
              "        background-color: #E2EBFA;\n",
              "        box-shadow: 0px 1px 2px rgba(60, 64, 67, 0.3), 0px 1px 3px 1px rgba(60, 64, 67, 0.15);\n",
              "        fill: #174EA6;\n",
              "      }\n",
              "\n",
              "      [theme=dark] .colab-df-generate {\n",
              "        background-color: #3B4455;\n",
              "        fill: #D2E3FC;\n",
              "      }\n",
              "\n",
              "      [theme=dark] .colab-df-generate:hover {\n",
              "        background-color: #434B5C;\n",
              "        box-shadow: 0px 1px 3px 1px rgba(0, 0, 0, 0.15);\n",
              "        filter: drop-shadow(0px 1px 2px rgba(0, 0, 0, 0.3));\n",
              "        fill: #FFFFFF;\n",
              "      }\n",
              "    </style>\n",
              "    <button class=\"colab-df-generate\" onclick=\"generateWithVariable('df')\"\n",
              "            title=\"Generate code using this dataframe.\"\n",
              "            style=\"display:none;\">\n",
              "\n",
              "  <svg xmlns=\"http://www.w3.org/2000/svg\" height=\"24px\"viewBox=\"0 0 24 24\"\n",
              "       width=\"24px\">\n",
              "    <path d=\"M7,19H8.4L18.45,9,17,7.55,7,17.6ZM5,21V16.75L18.45,3.32a2,2,0,0,1,2.83,0l1.4,1.43a1.91,1.91,0,0,1,.58,1.4,1.91,1.91,0,0,1-.58,1.4L9.25,21ZM18.45,9,17,7.55Zm-12,3A5.31,5.31,0,0,0,4.9,8.1,5.31,5.31,0,0,0,1,6.5,5.31,5.31,0,0,0,4.9,4.9,5.31,5.31,0,0,0,6.5,1,5.31,5.31,0,0,0,8.1,4.9,5.31,5.31,0,0,0,12,6.5,5.46,5.46,0,0,0,6.5,12Z\"/>\n",
              "  </svg>\n",
              "    </button>\n",
              "    <script>\n",
              "      (() => {\n",
              "      const buttonEl =\n",
              "        document.querySelector('#id_4801a9cd-0c9b-4e00-a0ad-4a8ca10e13bf button.colab-df-generate');\n",
              "      buttonEl.style.display =\n",
              "        google.colab.kernel.accessAllowed ? 'block' : 'none';\n",
              "\n",
              "      buttonEl.onclick = () => {\n",
              "        google.colab.notebook.generateWithVariable('df');\n",
              "      }\n",
              "      })();\n",
              "    </script>\n",
              "  </div>\n",
              "\n",
              "    </div>\n",
              "  </div>\n"
            ],
            "application/vnd.google.colaboratory.intrinsic+json": {
              "type": "dataframe",
              "variable_name": "df",
              "summary": "{\n  \"name\": \"df\",\n  \"rows\": 15050,\n  \"fields\": [\n    {\n      \"column\": \"Item Name\",\n      \"properties\": {\n        \"dtype\": \"category\",\n        \"num_unique_values\": 72,\n        \"samples\": [\n          \"Live poultry\",\n          \"Fresh vegetables\",\n          \"Coffee extracts and preparations\"\n        ],\n        \"semantic_type\": \"\",\n        \"description\": \"\"\n      }\n    },\n    {\n      \"column\": \"Country\",\n      \"properties\": {\n        \"dtype\": \"category\",\n        \"num_unique_values\": 63,\n        \"samples\": [\n          \"Sri Lanka\",\n          \"Singapore\",\n          \"Canada\"\n        ],\n        \"semantic_type\": \"\",\n        \"description\": \"\"\n      }\n    },\n    {\n      \"column\": \"Years\",\n      \"properties\": {\n        \"dtype\": \"number\",\n        \"std\": 7,\n        \"min\": 1999,\n        \"max\": 2023,\n        \"num_unique_values\": 25,\n        \"samples\": [\n          2015,\n          2007,\n          2023\n        ],\n        \"semantic_type\": \"\",\n        \"description\": \"\"\n      }\n    },\n    {\n      \"column\": \"Purchase\",\n      \"properties\": {\n        \"dtype\": \"number\",\n        \"std\": 1686.1973737253186,\n        \"min\": 0.0,\n        \"max\": 29478.1,\n        \"num_unique_values\": 7335,\n        \"samples\": [\n          236.8,\n          6.0,\n          95.8\n        ],\n        \"semantic_type\": \"\",\n        \"description\": \"\"\n      }\n    }\n  ]\n}"
            }
          },
          "metadata": {},
          "execution_count": 5
        }
      ]
    },
    {
      "cell_type": "code",
      "source": [
        "#the data encoded with label encoder\n",
        "\n",
        "encoders = {}\n",
        "for column in df.select_dtypes(include='object').columns:\n",
        "    encoder = LabelEncoder()\n",
        "    df[column] = encoder.fit_transform(df[column])\n",
        "    encoders[column] = encoder"
      ],
      "metadata": {
        "id": "rTL2uXA-YkWX"
      },
      "execution_count": 6,
      "outputs": []
    },
    {
      "cell_type": "code",
      "source": [
        "from sklearn.metrics import mean_squared_error, r2_score,mean_absolute_error,accuracy_score\n",
        "from sklearn.model_selection import train_test_split\n",
        "\n",
        "x = df.drop(\"Purchase\", axis=1)\n",
        "y = df[\"Purchase\"]\n",
        "\n",
        "x_train, x_test, y_train, y_test = train_test_split(x, y, test_size=0.3)"
      ],
      "metadata": {
        "id": "EvMEpjQQYh13"
      },
      "execution_count": 7,
      "outputs": []
    },
    {
      "cell_type": "code",
      "source": [
        "# I choose linear regression model, because the data is time series data, the year may have directly proptional to purchase value\n",
        "\n",
        "from sklearn.linear_model import LinearRegression\n",
        "model3 = LinearRegression().fit(x_train,y_train)\n",
        "y_pred3=model3.predict(x_test)\n",
        "print(\"Mean Square Error\",mean_squared_error(y_test,y_pred3))\n",
        "print(\"Mean Absolute Error\",mean_absolute_error(y_test,y_pred3))#priority 2\n",
        "print(\"R2_Scroe\",r2_score(y_test,y_pred3)) #priority 1"
      ],
      "metadata": {
        "colab": {
          "base_uri": "https://localhost:8080/"
        },
        "id": "eFnZyVxzYL0f",
        "outputId": "95016338-6113-4627-f4f6-ae231dd93859"
      },
      "execution_count": 8,
      "outputs": [
        {
          "output_type": "stream",
          "name": "stdout",
          "text": [
            "Mean Square Error 2158388.013547591\n",
            "Mean Absolute Error 789.6327967762056\n",
            "R2_Scroe 0.1156487387607531\n"
          ]
        }
      ]
    },
    {
      "cell_type": "markdown",
      "source": [
        "##### The R2_Score is 0.11 which is very poor for linear Regression\n",
        "##### Here is the Why EDA is very important"
      ],
      "metadata": {
        "id": "hVt7VyugbxRt"
      }
    },
    {
      "cell_type": "code",
      "source": [
        "cat = [\"Item Name\", \"Country\",\"Years\"]\n",
        "cont = [\"Purchase\"]"
      ],
      "metadata": {
        "id": "Mr6iz5aqZcXM"
      },
      "execution_count": 13,
      "outputs": []
    },
    {
      "cell_type": "code",
      "source": [
        "def two_sample(d1, d2):\n",
        "    m = [0, 0]\n",
        "    for i in range(31):\n",
        "        sample1 = d1.sample(frac=0.03)\n",
        "        sample2 = d2.sample(frac=0.04)\n",
        "        t_test, p_value = stats.ttest_ind(sample1, sample2, equal_var=False)  # Welch's T-test\n",
        "        if p_value < 0.04:\n",
        "            m[1] += 1  # Reject null hypothesis\n",
        "        else:\n",
        "            m[0] += 1  # Accept null hypothesis\n",
        "        if m[0] > m[1]:\n",
        "            return True  # Accept null hypothesis\n",
        "        elif m[1] > m[0]:\n",
        "            return False  # Reject null hypothesis\n",
        "\n",
        "def chi_square(d1, d2):\n",
        "    return True if stats.chi2_contingency(pd.crosstab(d1, d2))[1] < 0.075 else False\n",
        "\n",
        "def annova(df, d1, d2):\n",
        "    group = df[d2].unique()\n",
        "    data1 = {i: df[d1][df[d2] == i] for i in group}\n",
        "    f_value, p_value = stats.f_oneway(*data1.values())\n",
        "    return p_value >= 0.075  # Return True if connected (null hypothesis not rejected)\n",
        "\n",
        "# Define categorical and continuous features\n",
        "\n",
        "\n",
        "# Compare all columns\n",
        "def compare_columns(df):\n",
        "    final = {}\n",
        "    for i in df.columns:\n",
        "        final[i] = {}\n",
        "        for j in df.columns:\n",
        "            result = None\n",
        "            if i in cont and j in cont:\n",
        "                result = two_sample(df[i], df[j])\n",
        "            elif i in cat and j in cat:\n",
        "                result = chi_square(df[i], df[j])\n",
        "            elif i in cont and j in cat:\n",
        "                result = annova(df, i, j)\n",
        "            elif i in cat and j in cont:\n",
        "                result = annova(df, j, i)\n",
        "\n",
        "            if result is not None:\n",
        "                final[i][j] = 1 if result else 0\n",
        "    return final\n",
        "\n",
        "plt.figure(figsize=(3, 2))\n",
        "# Create the heatmap\n",
        "sns.heatmap(pd.DataFrame(compare_columns(df)) , annot=True, cmap=\"coolwarm\",linewidths=1, linecolor='black')\n"
      ],
      "metadata": {
        "colab": {
          "base_uri": "https://localhost:8080/",
          "height": 300
        },
        "id": "UYi1msTn_W9W",
        "outputId": "beab0853-3799-49b3-cb1f-ea87c8d3d831"
      },
      "execution_count": 17,
      "outputs": [
        {
          "output_type": "execute_result",
          "data": {
            "text/plain": [
              "<Axes: >"
            ]
          },
          "metadata": {},
          "execution_count": 17
        },
        {
          "output_type": "display_data",
          "data": {
            "text/plain": [
              "<Figure size 300x200 with 2 Axes>"
            ],
            "image/png": "[encoded data removed]"
          },
          "metadata": {}
        }
      ]
    },
    {
      "cell_type": "markdown",
      "source": [
        "*from the above test and these EDA Analysis show that there is no linearity in this data, becuase there is not inter connection one data with target variable, si choose randomforest regressor model"
      ],
      "metadata": {
        "id": "ECqKXeWkcjPc"
      }
    },
    {
      "cell_type": "code",
      "source": [
        "from sklearn.ensemble import RandomForestRegressor\n",
        "model2 = RandomForestRegressor().fit(x_train,y_train)\n",
        "y_pred2=model2.predict(x_test)\n",
        "print(\"Mean Square Error\",mean_squared_error(y_test,y_pred2))\n",
        "print(\"Mean Absolute Error\",mean_absolute_error(y_test,y_pred2))#priority 2\n",
        "print(\"R2_Scroe\",r2_score(y_test,y_pred2)) #priority 1"
      ],
      "metadata": {
        "colab": {
          "base_uri": "https://localhost:8080/"
        },
        "id": "WYL38nbDAz6H",
        "outputId": "2c692653-9a50-4f4a-a8ba-4a0f208ee168"
      },
      "execution_count": 18,
      "outputs": [
        {
          "output_type": "stream",
          "name": "stdout",
          "text": [
            "Mean Square Error 104168.9617496746\n",
            "Mean Absolute Error 119.70890609080841\n",
            "R2_Scroe 0.9573190954883533\n"
          ]
        }
      ]
    },
    {
      "cell_type": "markdown",
      "source": [
        "*R2_Score is 0.957 it may lead the over fitting problem, but by hyper tuning it we can reduce it"
      ],
      "metadata": {
        "id": "kWe7L2C7c71D"
      }
    }
  ]
}